{
 "cells": [
  {
   "cell_type": "markdown",
   "id": "b4172cb2",
   "metadata": {},
   "source": [
    "### Portfolio assignment 6\n",
    "60 min: Perform a univariate analysis on at least 2 columns with categorical data and on at least 2 columns with numerical data in the dataset that you chose in portfolio assignment 4. Commit the Notebook to your portfolio when you're finished."
   ]
  },
  {
   "cell_type": "code",
   "execution_count": 2,
   "id": "2a014c1a",
   "metadata": {},
   "outputs": [],
   "source": [
    "import pandas as pd \n",
    "playerStats = pd.read_csv('playerStats.csv', sep=',')"
   ]
  },
  {
   "cell_type": "code",
   "execution_count": 3,
   "id": "c0ada94a",
   "metadata": {},
   "outputs": [
    {
     "data": {
      "text/html": [
       "<div>\n",
       "<style scoped>\n",
       "    .dataframe tbody tr th:only-of-type {\n",
       "        vertical-align: middle;\n",
       "    }\n",
       "\n",
       "    .dataframe tbody tr th {\n",
       "        vertical-align: top;\n",
       "    }\n",
       "\n",
       "    .dataframe thead th {\n",
       "        text-align: right;\n",
       "    }\n",
       "</style>\n",
       "<table border=\"1\" class=\"dataframe\">\n",
       "  <thead>\n",
       "    <tr style=\"text-align: right;\">\n",
       "      <th></th>\n",
       "      <th>League</th>\n",
       "      <th>Team</th>\n",
       "      <th>Season</th>\n",
       "      <th>KEY</th>\n",
       "      <th>Player</th>\n",
       "      <th>Position</th>\n",
       "      <th>Appearances</th>\n",
       "      <th>Goals</th>\n",
       "      <th>Started</th>\n",
       "      <th>Started As A Sub</th>\n",
       "      <th>...</th>\n",
       "      <th>Minutes per Yellow Cards</th>\n",
       "      <th>Sent Off</th>\n",
       "      <th>Straight Red Card</th>\n",
       "      <th>Two Yellow Cards</th>\n",
       "      <th>Red - First Half</th>\n",
       "      <th>Red - Second Half</th>\n",
       "      <th>Red - Home</th>\n",
       "      <th>Red - Away</th>\n",
       "      <th>Red - Minutes Played</th>\n",
       "      <th>Minutes per Red Cards</th>\n",
       "    </tr>\n",
       "  </thead>\n",
       "  <tbody>\n",
       "    <tr>\n",
       "      <th>0</th>\n",
       "      <td>Premier League</td>\n",
       "      <td>Chelsea</td>\n",
       "      <td>2016/17</td>\n",
       "      <td>Premier League|Chelsea|2016/17</td>\n",
       "      <td>NaN</td>\n",
       "      <td>NaN</td>\n",
       "      <td>NaN</td>\n",
       "      <td>83.0</td>\n",
       "      <td>NaN</td>\n",
       "      <td>NaN</td>\n",
       "      <td>...</td>\n",
       "      <td>NaN</td>\n",
       "      <td>NaN</td>\n",
       "      <td>NaN</td>\n",
       "      <td>NaN</td>\n",
       "      <td>NaN</td>\n",
       "      <td>NaN</td>\n",
       "      <td>NaN</td>\n",
       "      <td>NaN</td>\n",
       "      <td>NaN</td>\n",
       "      <td>NaN</td>\n",
       "    </tr>\n",
       "    <tr>\n",
       "      <th>1</th>\n",
       "      <td>Premier League</td>\n",
       "      <td>Chelsea</td>\n",
       "      <td>2016/17</td>\n",
       "      <td>Premier League|Chelsea|2016/17</td>\n",
       "      <td>Cesar Azpilicueta</td>\n",
       "      <td>Defender</td>\n",
       "      <td>38.0</td>\n",
       "      <td>1.0</td>\n",
       "      <td>38.0</td>\n",
       "      <td>0.0</td>\n",
       "      <td>...</td>\n",
       "      <td>855</td>\n",
       "      <td>NaN</td>\n",
       "      <td>NaN</td>\n",
       "      <td>NaN</td>\n",
       "      <td>NaN</td>\n",
       "      <td>NaN</td>\n",
       "      <td>NaN</td>\n",
       "      <td>NaN</td>\n",
       "      <td>NaN</td>\n",
       "      <td>NaN</td>\n",
       "    </tr>\n",
       "    <tr>\n",
       "      <th>2</th>\n",
       "      <td>Premier League</td>\n",
       "      <td>Chelsea</td>\n",
       "      <td>2016/17</td>\n",
       "      <td>Premier League|Chelsea|2016/17</td>\n",
       "      <td>Gary Cahill</td>\n",
       "      <td>Defender</td>\n",
       "      <td>37.0</td>\n",
       "      <td>6.0</td>\n",
       "      <td>36.0</td>\n",
       "      <td>2.0</td>\n",
       "      <td>...</td>\n",
       "      <td>659.2</td>\n",
       "      <td>NaN</td>\n",
       "      <td>NaN</td>\n",
       "      <td>NaN</td>\n",
       "      <td>NaN</td>\n",
       "      <td>NaN</td>\n",
       "      <td>NaN</td>\n",
       "      <td>NaN</td>\n",
       "      <td>NaN</td>\n",
       "      <td>NaN</td>\n",
       "    </tr>\n",
       "    <tr>\n",
       "      <th>3</th>\n",
       "      <td>Premier League</td>\n",
       "      <td>Chelsea</td>\n",
       "      <td>2016/17</td>\n",
       "      <td>Premier League|Chelsea|2016/17</td>\n",
       "      <td>Eden Hazard</td>\n",
       "      <td>Midfielder</td>\n",
       "      <td>36.0</td>\n",
       "      <td>16.0</td>\n",
       "      <td>36.0</td>\n",
       "      <td>0.0</td>\n",
       "      <td>...</td>\n",
       "      <td>1002</td>\n",
       "      <td>NaN</td>\n",
       "      <td>NaN</td>\n",
       "      <td>NaN</td>\n",
       "      <td>NaN</td>\n",
       "      <td>NaN</td>\n",
       "      <td>NaN</td>\n",
       "      <td>NaN</td>\n",
       "      <td>NaN</td>\n",
       "      <td>NaN</td>\n",
       "    </tr>\n",
       "    <tr>\n",
       "      <th>4</th>\n",
       "      <td>Premier League</td>\n",
       "      <td>Chelsea</td>\n",
       "      <td>2016/17</td>\n",
       "      <td>Premier League|Chelsea|2016/17</td>\n",
       "      <td>Thibaut Courtois</td>\n",
       "      <td>Goalkeeper</td>\n",
       "      <td>36.0</td>\n",
       "      <td>0.0</td>\n",
       "      <td>36.0</td>\n",
       "      <td>0.0</td>\n",
       "      <td>...</td>\n",
       "      <td>3240</td>\n",
       "      <td>NaN</td>\n",
       "      <td>NaN</td>\n",
       "      <td>NaN</td>\n",
       "      <td>NaN</td>\n",
       "      <td>NaN</td>\n",
       "      <td>NaN</td>\n",
       "      <td>NaN</td>\n",
       "      <td>NaN</td>\n",
       "      <td>NaN</td>\n",
       "    </tr>\n",
       "  </tbody>\n",
       "</table>\n",
       "<p>5 rows × 57 columns</p>\n",
       "</div>"
      ],
      "text/plain": [
       "           League     Team   Season                             KEY  \\\n",
       "0  Premier League  Chelsea  2016/17  Premier League|Chelsea|2016/17   \n",
       "1  Premier League  Chelsea  2016/17  Premier League|Chelsea|2016/17   \n",
       "2  Premier League  Chelsea  2016/17  Premier League|Chelsea|2016/17   \n",
       "3  Premier League  Chelsea  2016/17  Premier League|Chelsea|2016/17   \n",
       "4  Premier League  Chelsea  2016/17  Premier League|Chelsea|2016/17   \n",
       "\n",
       "              Player    Position  Appearances  Goals  Started  \\\n",
       "0                NaN         NaN          NaN   83.0      NaN   \n",
       "1  Cesar Azpilicueta    Defender         38.0    1.0     38.0   \n",
       "2        Gary Cahill    Defender         37.0    6.0     36.0   \n",
       "3        Eden Hazard  Midfielder         36.0   16.0     36.0   \n",
       "4   Thibaut Courtois  Goalkeeper         36.0    0.0     36.0   \n",
       "\n",
       "   Started As A Sub  ...  Minutes per Yellow Cards  Sent Off  \\\n",
       "0               NaN  ...                       NaN       NaN   \n",
       "1               0.0  ...                       855       NaN   \n",
       "2               2.0  ...                     659.2       NaN   \n",
       "3               0.0  ...                      1002       NaN   \n",
       "4               0.0  ...                      3240       NaN   \n",
       "\n",
       "   Straight Red Card Two Yellow Cards Red - First Half Red - Second Half  \\\n",
       "0                NaN              NaN              NaN               NaN   \n",
       "1                NaN              NaN              NaN               NaN   \n",
       "2                NaN              NaN              NaN               NaN   \n",
       "3                NaN              NaN              NaN               NaN   \n",
       "4                NaN              NaN              NaN               NaN   \n",
       "\n",
       "  Red - Home Red - Away Red - Minutes Played Minutes per Red Cards  \n",
       "0        NaN        NaN                  NaN                   NaN  \n",
       "1        NaN        NaN                  NaN                   NaN  \n",
       "2        NaN        NaN                  NaN                   NaN  \n",
       "3        NaN        NaN                  NaN                   NaN  \n",
       "4        NaN        NaN                  NaN                   NaN  \n",
       "\n",
       "[5 rows x 57 columns]"
      ]
     },
     "execution_count": 3,
     "metadata": {},
     "output_type": "execute_result"
    }
   ],
   "source": [
    "playerStats.head()"
   ]
  },
  {
   "cell_type": "markdown",
   "id": "92333d19",
   "metadata": {},
   "source": [
    "#### Only select players and not the teams"
   ]
  },
  {
   "cell_type": "code",
   "execution_count": 17,
   "id": "3fff4c08",
   "metadata": {},
   "outputs": [],
   "source": [
    "playerStatsAllLeagues = playerStats[(playerStats['Player'].notnull())]"
   ]
  },
  {
   "cell_type": "markdown",
   "id": "c73ceb88",
   "metadata": {},
   "source": [
    "#### Categorical"
   ]
  },
  {
   "cell_type": "markdown",
   "id": "0986e125",
   "metadata": {},
   "source": [
    "#### Team:"
   ]
  },
  {
   "cell_type": "code",
   "execution_count": 18,
   "id": "4af9da36",
   "metadata": {
    "scrolled": false
   },
   "outputs": [
    {
     "data": {
      "text/plain": [
       "<AxesSubplot:>"
      ]
     },
     "execution_count": 18,
     "metadata": {},
     "output_type": "execute_result"
    },
    {
     "data": {
      "image/png": "[encoded data removed]",
      "text/plain": [
       "<Figure size 640x480 with 1 Axes>"
      ]
     },
     "metadata": {},
     "output_type": "display_data"
    }
   ],
   "source": [
    "playerStatsAllLeagues['Team'].value_counts().plot(kind='box')"
   ]
  },
  {
   "cell_type": "markdown",
   "id": "3659b91e",
   "metadata": {},
   "source": [
    "Door middel van deze boxplot is te zien wat de verdeling is van het aantal spelers van de clubs"
   ]
  },
  {
   "cell_type": "markdown",
   "id": "099b6d4b",
   "metadata": {},
   "source": [
    "#### Position:"
   ]
  },
  {
   "cell_type": "code",
   "execution_count": 19,
   "id": "8ae94866",
   "metadata": {},
   "outputs": [
    {
     "data": {
      "text/plain": [
       "<AxesSubplot:>"
      ]
     },
     "execution_count": 19,
     "metadata": {},
     "output_type": "execute_result"
    },
    {
     "data": {
      "image/png": "[encoded data removed]",
      "text/plain": [
       "<Figure size 640x480 with 1 Axes>"
      ]
     },
     "metadata": {},
     "output_type": "display_data"
    }
   ],
   "source": [
    "playerStatsAllLeagues['Position'].value_counts().plot(kind='bar')"
   ]
  },
  {
   "cell_type": "markdown",
   "id": "5ec8d183",
   "metadata": {},
   "source": [
    "Door gebruik te maken van een barplot is te zien hoeveel spelers op welke positie spelen."
   ]
  },
  {
   "cell_type": "markdown",
   "id": "a036c523",
   "metadata": {},
   "source": [
    "#### Numerical "
   ]
  },
  {
   "cell_type": "markdown",
   "id": "1a89191e",
   "metadata": {},
   "source": [
    "#### Appearances:"
   ]
  },
  {
   "cell_type": "code",
   "execution_count": 22,
   "id": "9e2e55ef",
   "metadata": {},
   "outputs": [
    {
     "data": {
      "text/plain": [
       "<AxesSubplot:>"
      ]
     },
     "execution_count": 22,
     "metadata": {},
     "output_type": "execute_result"
    },
    {
     "data": {
      "image/png": "[encoded data removed]",
      "text/plain": [
       "<Figure size 640x480 with 1 Axes>"
      ]
     },
     "metadata": {},
     "output_type": "display_data"
    }
   ],
   "source": [
    "playerStatsAllLeagues['Appearances'].plot(kind='box')"
   ]
  },
  {
   "cell_type": "markdown",
   "id": "cd2232fa",
   "metadata": {},
   "source": [
    "Door gebruik te maken van een boxplot is te zien wat de verdeling is van het aantal speelminuten van de spelers voor hun team. "
   ]
  },
  {
   "cell_type": "markdown",
   "id": "b97eadbd",
   "metadata": {},
   "source": [
    "#### Goals:"
   ]
  },
  {
   "cell_type": "code",
   "execution_count": 23,
   "id": "e7f54d40",
   "metadata": {},
   "outputs": [
    {
     "data": {
      "text/plain": [
       "<AxesSubplot:ylabel='Frequency'>"
      ]
     },
     "execution_count": 23,
     "metadata": {},
     "output_type": "execute_result"
    },
    {
     "data": {
      "image/png": "[encoded data removed]",
      "text/plain": [
       "<Figure size 640x480 with 1 Axes>"
      ]
     },
     "metadata": {},
     "output_type": "display_data"
    }
   ],
   "source": [
    "playerStatsAllLeagues['Goals'].plot(kind='hist', bins=10)"
   ]
  },
  {
   "cell_type": "markdown",
   "id": "11fe71be",
   "metadata": {},
   "source": [
    "Door gebruik te maken van dit histogram is er te zien hoe vaak het voorkomt dat een speler een goal scoort en ook hoe veel goals de speler dan scoort."
   ]
  }
 ],
 "metadata": {
  "kernelspec": {
   "display_name": "Python 3 (ipykernel)",
   "language": "python",
   "name": "python3"
  },
  "language_info": {
   "codemirror_mode": {
    "name": "ipython",
    "version": 3
   },
   "file_extension": ".py",
   "mimetype": "text/x-python",
   "name": "python",
   "nbconvert_exporter": "python",
   "pygments_lexer": "ipython3",
   "version": "3.9.13"
  }
 },
 "nbformat": 4,
 "nbformat_minor": 5
}
