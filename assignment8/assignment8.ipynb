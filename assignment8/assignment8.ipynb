{
 "cells": [
  {
   "cell_type": "markdown",
   "id": "a0449e63",
   "metadata": {},
   "source": [
    "### Portfolio assignment 8\n",
    "15 min: \n",
    "- Calculate the 90%, 95%, 99% and 99.99% confidence interval for at least 2 columns with numerical data in the dataset that you chose in portfolio assignment 4. Do you see the impact the confidence has on the interval?\n",
    "- Now calculate the 95% confidence interval again but use only the first 10% of your rows. Compare this interval to the previous 95% confidence interval you calculated. Do you see the impact of having less data?"
   ]
  },
  {
   "cell_type": "code",
   "execution_count": 8,
   "id": "7d867c95",
   "metadata": {},
   "outputs": [],
   "source": [
    "import pandas as pd \n",
    "playerStats = pd.read_csv('playerStats.csv', sep=',')\n",
    "playerStatsAllLeagues = playerStats[(playerStats['Player'].notnull())]\n",
    "import scipy.stats as st"
   ]
  },
  {
   "cell_type": "markdown",
   "id": "b9ddb787",
   "metadata": {},
   "source": [
    "### Confidence interval all data\n",
    "#### Appearances:\n",
    "##### 90%:"
   ]
  },
  {
   "cell_type": "code",
   "execution_count": 13,
   "id": "f49f0036",
   "metadata": {},
   "outputs": [
    {
     "data": {
      "text/plain": [
       "(15.898504320269636, 16.55738183755701)"
      ]
     },
     "execution_count": 13,
     "metadata": {},
     "output_type": "execute_result"
    }
   ],
   "source": [
    "confidence = 0.90\n",
    "st.t.interval(confidence, len(playerStatsAllLeagues)-1, \n",
    "              loc=playerStatsAllLeagues['Appearances'].mean(), \n",
    "              scale=st.sem(playerStatsAllLeagues['Appearances']))"
   ]
  },
  {
   "cell_type": "markdown",
   "id": "a7c51e32",
   "metadata": {},
   "source": [
    "##### 95%:"
   ]
  },
  {
   "cell_type": "code",
   "execution_count": 14,
   "id": "05c35c60",
   "metadata": {},
   "outputs": [
    {
     "data": {
      "text/plain": [
       "(15.8353637278348, 16.620522429991848)"
      ]
     },
     "execution_count": 14,
     "metadata": {},
     "output_type": "execute_result"
    }
   ],
   "source": [
    "confidence = 0.95\n",
    "st.t.interval(confidence, len(playerStatsAllLeagues)-1, \n",
    "              loc=playerStatsAllLeagues['Appearances'].mean(), \n",
    "              scale=st.sem(playerStatsAllLeagues['Appearances']))"
   ]
  },
  {
   "cell_type": "markdown",
   "id": "729548dc",
   "metadata": {},
   "source": [
    "##### 99%:"
   ]
  },
  {
   "cell_type": "code",
   "execution_count": 15,
   "id": "4ec9683b",
   "metadata": {},
   "outputs": [
    {
     "data": {
      "text/plain": [
       "(15.711913068051325, 16.743973089775324)"
      ]
     },
     "execution_count": 15,
     "metadata": {},
     "output_type": "execute_result"
    }
   ],
   "source": [
    "confidence = 0.99\n",
    "st.t.interval(confidence, len(playerStatsAllLeagues)-1, \n",
    "              loc=playerStatsAllLeagues['Appearances'].mean(), \n",
    "              scale=st.sem(playerStatsAllLeagues['Appearances']))"
   ]
  },
  {
   "cell_type": "markdown",
   "id": "febc10eb",
   "metadata": {},
   "source": [
    "##### 99.99%:"
   ]
  },
  {
   "cell_type": "code",
   "execution_count": 16,
   "id": "c803a66d",
   "metadata": {},
   "outputs": [
    {
     "data": {
      "text/plain": [
       "(15.448090369855716, 17.00779578797093)"
      ]
     },
     "execution_count": 16,
     "metadata": {},
     "output_type": "execute_result"
    }
   ],
   "source": [
    "confidence = 0.9999\n",
    "st.t.interval(confidence, len(playerStatsAllLeagues)-1, \n",
    "              loc=playerStatsAllLeagues['Appearances'].mean(), \n",
    "              scale=st.sem(playerStatsAllLeagues['Appearances']))"
   ]
  },
  {
   "cell_type": "markdown",
   "id": "cfbe1f6a",
   "metadata": {},
   "source": [
    "#### Goals:\n",
    "##### 90%:"
   ]
  },
  {
   "cell_type": "code",
   "execution_count": 17,
   "id": "153512f3",
   "metadata": {},
   "outputs": [
    {
     "data": {
      "text/plain": [
       "(1.545605059551967, 1.726322495428628)"
      ]
     },
     "execution_count": 17,
     "metadata": {},
     "output_type": "execute_result"
    }
   ],
   "source": [
    "confidence = 0.90\n",
    "st.t.interval(confidence, len(playerStatsAllLeagues)-1, \n",
    "              loc=playerStatsAllLeagues['Goals'].mean(), \n",
    "              scale=st.sem(playerStatsAllLeagues['Goals']))"
   ]
  },
  {
   "cell_type": "markdown",
   "id": "61986a82",
   "metadata": {},
   "source": [
    "##### 95%: "
   ]
  },
  {
   "cell_type": "code",
   "execution_count": 19,
   "id": "8f3e90d9",
   "metadata": {},
   "outputs": [
    {
     "data": {
      "text/plain": [
       "(1.5282868089436676, 1.7436407460369274)"
      ]
     },
     "execution_count": 19,
     "metadata": {},
     "output_type": "execute_result"
    }
   ],
   "source": [
    "confidence = 0.95\n",
    "st.t.interval(confidence, len(playerStatsAllLeagues)-1, \n",
    "              loc=playerStatsAllLeagues['Goals'].mean(), \n",
    "              scale=st.sem(playerStatsAllLeagues['Goals']))"
   ]
  },
  {
   "cell_type": "markdown",
   "id": "8611fb31",
   "metadata": {},
   "source": [
    "##### 99%:"
   ]
  },
  {
   "cell_type": "code",
   "execution_count": 20,
   "id": "8cbf1365",
   "metadata": {},
   "outputs": [
    {
     "data": {
      "text/plain": [
       "(1.4944266663405303, 1.7775008886400647)"
      ]
     },
     "execution_count": 20,
     "metadata": {},
     "output_type": "execute_result"
    }
   ],
   "source": [
    "confidence = 0.99\n",
    "st.t.interval(confidence, len(playerStatsAllLeagues)-1, \n",
    "              loc=playerStatsAllLeagues['Goals'].mean(), \n",
    "              scale=st.sem(playerStatsAllLeagues['Goals']))"
   ]
  },
  {
   "cell_type": "markdown",
   "id": "03b61906",
   "metadata": {},
   "source": [
    "##### 99.99%:"
   ]
  },
  {
   "cell_type": "code",
   "execution_count": 21,
   "id": "39cb15a1",
   "metadata": {},
   "outputs": [
    {
     "data": {
      "text/plain": [
       "(1.4220651722949265, 1.8498623826856686)"
      ]
     },
     "execution_count": 21,
     "metadata": {},
     "output_type": "execute_result"
    }
   ],
   "source": [
    "confidence = 0.9999\n",
    "st.t.interval(confidence, len(playerStatsAllLeagues)-1, \n",
    "              loc=playerStatsAllLeagues['Goals'].mean(), \n",
    "              scale=st.sem(playerStatsAllLeagues['Goals']))"
   ]
  },
  {
   "cell_type": "markdown",
   "id": "ce3f4863",
   "metadata": {},
   "source": [
    "Uit deze berekeningen is af te zien dat: hoe groter de de confidence, hoe groter het gat is tussen tusssen de twee getallen van het interval. Ofwel, doordat er meer vertrouwen moet zijn in het resultaat dat wordt aangeleverd word het gat tussen de twee getallen van het interval groter. Hiermee is dus ook de kans groter dat het gezochte getal tussen de twee getllen van het interval in licht. "
   ]
  },
  {
   "cell_type": "markdown",
   "id": "b6904d1c",
   "metadata": {},
   "source": [
    "### Confidence interval 10%\n",
    "#### Appearances:\n",
    "##### All of the data:"
   ]
  },
  {
   "cell_type": "code",
   "execution_count": 22,
   "id": "532f8ec4",
   "metadata": {},
   "outputs": [
    {
     "data": {
      "text/plain": [
       "(15.8353637278348, 16.620522429991848)"
      ]
     },
     "execution_count": 22,
     "metadata": {},
     "output_type": "execute_result"
    }
   ],
   "source": [
    "confidence = 0.95\n",
    "st.t.interval(confidence, len(playerStatsAllLeagues)-1, \n",
    "              loc=playerStatsAllLeagues['Appearances'].mean(), \n",
    "              scale=st.sem(playerStatsAllLeagues['Appearances']))"
   ]
  },
  {
   "cell_type": "markdown",
   "id": "050f7ed5",
   "metadata": {},
   "source": [
    "##### 10% of the data:"
   ]
  },
  {
   "cell_type": "code",
   "execution_count": 28,
   "id": "0e1ca300",
   "metadata": {},
   "outputs": [
    {
     "data": {
      "text/plain": [
       "(16.693585216578757, 19.332321519172535)"
      ]
     },
     "execution_count": 28,
     "metadata": {},
     "output_type": "execute_result"
    }
   ],
   "source": [
    "playerStatsAllLeagues10 = playerStatsAllLeagues.head(int(len(playerStatsAllLeagues)*0.1))\n",
    "confidence = 0.95\n",
    "st.t.interval(confidence, len(playerStatsAllLeagues10)-1, \n",
    "              loc=playerStatsAllLeagues10['Appearances'].mean(), \n",
    "              scale=st.sem(playerStatsAllLeagues10['Appearances']))"
   ]
  },
  {
   "cell_type": "markdown",
   "id": "2c43ddb4",
   "metadata": {},
   "source": [
    "#### Appearances:\n",
    "##### All of the data:"
   ]
  },
  {
   "cell_type": "code",
   "execution_count": 30,
   "id": "c66af0be",
   "metadata": {},
   "outputs": [
    {
     "data": {
      "text/plain": [
       "(1.5282868089436676, 1.7436407460369274)"
      ]
     },
     "execution_count": 30,
     "metadata": {},
     "output_type": "execute_result"
    }
   ],
   "source": [
    "confidence = 0.95\n",
    "st.t.interval(confidence, len(playerStatsAllLeagues)-1, \n",
    "              loc=playerStatsAllLeagues['Goals'].mean(), \n",
    "              scale=st.sem(playerStatsAllLeagues['Goals']))"
   ]
  },
  {
   "cell_type": "markdown",
   "id": "60627458",
   "metadata": {},
   "source": [
    "##### 10% of the data:"
   ]
  },
  {
   "cell_type": "code",
   "execution_count": 32,
   "id": "446c37a2",
   "metadata": {},
   "outputs": [
    {
     "data": {
      "text/plain": [
       "(1.6534990924963946, 2.444946503358528)"
      ]
     },
     "execution_count": 32,
     "metadata": {},
     "output_type": "execute_result"
    }
   ],
   "source": [
    "playerStatsAllLeagues10 = playerStatsAllLeagues.head(int(len(playerStatsAllLeagues)*0.1))\n",
    "confidence = 0.95\n",
    "st.t.interval(confidence, len(playerStatsAllLeagues10)-1, \n",
    "              loc=playerStatsAllLeagues10['Goals'].mean(), \n",
    "              scale=st.sem(playerStatsAllLeagues10['Goals']))"
   ]
  },
  {
   "cell_type": "markdown",
   "id": "cfabc1cf",
   "metadata": {},
   "source": [
    "Uit deze berekingen is op te merken dat: hoe meer data beschikbaar wordt gesteld, hoe kleiner het betrouwbaarheidsinterval. Doordat er dus minder data wordt gebruikt bij de berekingen met 10%, gaan de twee getallen van het interval verder uit elkaar liggen."
   ]
  }
 ],
 "metadata": {
  "kernelspec": {
   "display_name": "Python 3 (ipykernel)",
   "language": "python",
   "name": "python3"
  },
  "language_info": {
   "codemirror_mode": {
    "name": "ipython",
    "version": 3
   },
   "file_extension": ".py",
   "mimetype": "text/x-python",
   "name": "python",
   "nbconvert_exporter": "python",
   "pygments_lexer": "ipython3",
   "version": "3.9.13"
  }
 },
 "nbformat": 4,
 "nbformat_minor": 5
}
