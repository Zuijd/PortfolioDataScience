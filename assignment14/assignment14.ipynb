{
 "cells": [
  {
   "attachments": {},
   "cell_type": "markdown",
   "metadata": {},
   "source": [
    "### Portfolio assignment 14\n",
    "Perform a bivariate analysis on at least 1 combination of 2 columns with categorical data in the dataset that you chose in portfolio assignment 4.\n",
    "- Do you expect their to be a correlation between the two columns?\n",
    "- Create a contingency table. Do you observe different ratios between categories here?\n",
    "- Create a bar plot for this contingency table. Do you observe different ratios between categories here?\n",
    "- Do a chi-squared test. What does the result say? What's the chance of there being a correlation between the two columns?\n",
    "\n",
    "![](https://i.imgur.com/0v1CGNV.png)"
   ]
  },
  {
   "cell_type": "code",
   "execution_count": 35,
   "metadata": {},
   "outputs": [],
   "source": [
    "import pandas as pd\n",
    "import seaborn as sns\n",
    "from scipy.stats import chi2_contingency\n",
    "type_dict = {'Team': 'object', 'Season': 'object', 'KEY': 'object', 'Player': 'object', 'Position': 'object', 'Appearances': 'float64', 'Goals': 'float64', 'Started': 'float64', 'Started As A Sub': 'float64', 'Came On': 'float64', 'Taken Off': 'float64', 'Own Goals': 'float64', 'Type Of Goal': 'object', 'First Half': 'float64', 'Second Half': 'float64', 'First Scorer': 'object', 'Last Scorer': 'object', 'Home': 'float64', 'Away': 'float64', 'Right Foot': 'float64', 'Left Foot': 'float64', 'Header': 'float64', 'Other Method': 'float64', 'Open Play': 'float64', 'Cross': 'float64', 'Free Kick': 'float64', 'Direct Free Kick': 'float64', 'Throw In': 'float64', 'Penalty': 'float64', 'Corner': 'float64', 'Other Type Of Play': 'float64', 'Minutes played': 'float64', 'Min/goal': 'float64', 'Assists': 'float64', '% Assists': 'float64', 'Leading Recipient': 'object', 'Recipient Goals': 'float64', 'CS': 'float64', '% Clean Sheets': 'float64', 'Hat Tricks': 'float64', 'Yellow Cards': 'float64', 'Yellow - First Half': 'float64', 'Yellow - Second Half': 'float64', 'Yellow - Home': 'float64', 'Yellow - Away': 'float64', 'Yelow - Minutes Played': 'float64', 'Minutes per Yellow Cards': 'float64', 'Sent Off': 'float64', 'Straight Red Card': 'float64', 'Two Yellow Cards': 'float64', 'Red - First Half': 'float64', 'Red - Second Half': 'float64', 'Red - Home': 'float64', 'Red - Away': 'float64', 'Red - Minutes Played': 'float64', 'Minutes per Red Cards': 'float64'}\n",
    "playerStatsAllLeagues = pd.read_csv('merged-csv-files.csv', sep=',', dtype=type_dict)\n",
    "playerStatsAllLeaguesNoTeams = playerStatsAllLeagues[playerStatsAllLeagues['Position'] != \"Other\"];\n",
    "\n",
    "def create_contingency_table(dataset, column1, column2):\n",
    "    return dataset.groupby([column1, column2]).size().unstack(column1, fill_value=0)\n",
    "def check_cat_vs_cat_correlation(dataset, column1, column2):\n",
    "    contingency_table = create_contingency_table(dataset, column1, column2)\n",
    "    chi2 = chi2_contingency(contingency_table)\n",
    "    p_value = chi2[1]\n",
    "    odds_of_correlation = 1 - p_value\n",
    "    print(f\"The odds of a correlation between {column1} and {column2} is {odds_of_correlation * 100}% (Based on a p value of {p_value}).\")\n",
    "    print(\"This percentage needs to be at least 95% for a significant correlation.\")"
   ]
  },
  {
   "attachments": {},
   "cell_type": "markdown",
   "metadata": {},
   "source": [
    "#### League & Position"
   ]
  },
  {
   "attachments": {},
   "cell_type": "markdown",
   "metadata": {},
   "source": [
    "I am expected a small correlation between the position and the league. I think all leagues have different play styles and require different players on different positions. This might also result in a difference between the number of players required on positions. "
   ]
  },
  {
   "cell_type": "code",
   "execution_count": 36,
   "metadata": {},
   "outputs": [
    {
     "data": {
      "text/html": [
       "<div>\n",
       "<style scoped>\n",
       "    .dataframe tbody tr th:only-of-type {\n",
       "        vertical-align: middle;\n",
       "    }\n",
       "\n",
       "    .dataframe tbody tr th {\n",
       "        vertical-align: top;\n",
       "    }\n",
       "\n",
       "    .dataframe thead th {\n",
       "        text-align: right;\n",
       "    }\n",
       "</style>\n",
       "<table border=\"1\" class=\"dataframe\">\n",
       "  <thead>\n",
       "    <tr style=\"text-align: right;\">\n",
       "      <th>League</th>\n",
       "      <th>Bundesliga</th>\n",
       "      <th>Eredivisie</th>\n",
       "      <th>French Ligue 1</th>\n",
       "      <th>La Liga</th>\n",
       "      <th>Premier League</th>\n",
       "      <th>Scottish Premiership</th>\n",
       "      <th>Serie A</th>\n",
       "    </tr>\n",
       "    <tr>\n",
       "      <th>Position</th>\n",
       "      <th></th>\n",
       "      <th></th>\n",
       "      <th></th>\n",
       "      <th></th>\n",
       "      <th></th>\n",
       "      <th></th>\n",
       "      <th></th>\n",
       "    </tr>\n",
       "  </thead>\n",
       "  <tbody>\n",
       "    <tr>\n",
       "      <th>Defender</th>\n",
       "      <td>1044</td>\n",
       "      <td>854</td>\n",
       "      <td>1239</td>\n",
       "      <td>1320</td>\n",
       "      <td>1308</td>\n",
       "      <td>837</td>\n",
       "      <td>1511</td>\n",
       "    </tr>\n",
       "    <tr>\n",
       "      <th>Forward</th>\n",
       "      <td>706</td>\n",
       "      <td>554</td>\n",
       "      <td>915</td>\n",
       "      <td>855</td>\n",
       "      <td>796</td>\n",
       "      <td>659</td>\n",
       "      <td>886</td>\n",
       "    </tr>\n",
       "    <tr>\n",
       "      <th>Goalkeeper</th>\n",
       "      <td>395</td>\n",
       "      <td>346</td>\n",
       "      <td>450</td>\n",
       "      <td>458</td>\n",
       "      <td>454</td>\n",
       "      <td>296</td>\n",
       "      <td>594</td>\n",
       "    </tr>\n",
       "    <tr>\n",
       "      <th>Midfielder</th>\n",
       "      <td>1397</td>\n",
       "      <td>1102</td>\n",
       "      <td>1710</td>\n",
       "      <td>1542</td>\n",
       "      <td>1642</td>\n",
       "      <td>1023</td>\n",
       "      <td>1744</td>\n",
       "    </tr>\n",
       "  </tbody>\n",
       "</table>\n",
       "</div>"
      ],
      "text/plain": [
       "League      Bundesliga  Eredivisie  French Ligue 1  La Liga  Premier League  \\\n",
       "Position                                                                      \n",
       "Defender          1044         854            1239     1320            1308   \n",
       "Forward            706         554             915      855             796   \n",
       "Goalkeeper         395         346             450      458             454   \n",
       "Midfielder        1397        1102            1710     1542            1642   \n",
       "\n",
       "League      Scottish Premiership  Serie A  \n",
       "Position                                   \n",
       "Defender                     837     1511  \n",
       "Forward                      659      886  \n",
       "Goalkeeper                   296      594  \n",
       "Midfielder                  1023     1744  "
      ]
     },
     "execution_count": 36,
     "metadata": {},
     "output_type": "execute_result"
    }
   ],
   "source": [
    "playerStatsAllLeaguesNoTeamsContingencyTable = create_contingency_table(playerStatsAllLeaguesNoTeams, 'League', 'Position')\n",
    "playerStatsAllLeaguesNoTeamsContingencyTable"
   ]
  },
  {
   "attachments": {},
   "cell_type": "markdown",
   "metadata": {},
   "source": [
    "There are a few things that stand out from this contingency table. At first it's very clear that a few leagues have a lot more midfielders than players on other positions. Also it is clear that some leagues have way more players than other leagues. There are a few explanations for this, but in short this is due to: \n",
    "1. more teams in the league\n",
    "2. more transfers and thus more different players over the years\n",
    "\n",
    "And of course there is also the fact that (most of the time) there are never two goalkeepers from the same team on the pitch. This means that clubs need less players on specific positions. But because every league plays with the same rules, this should not be effecting the correlation. "
   ]
  },
  {
   "cell_type": "code",
   "execution_count": 37,
   "metadata": {},
   "outputs": [
    {
     "data": {
      "text/plain": [
       "<AxesSubplot:xlabel='Position'>"
      ]
     },
     "execution_count": 37,
     "metadata": {},
     "output_type": "execute_result"
    },
    {
     "data": {
      "image/png": "[encoded data removed]",
      "text/plain": [
       "<Figure size 640x480 with 1 Axes>"
      ]
     },
     "metadata": {},
     "output_type": "display_data"
    }
   ],
   "source": [
    "playerStatsAllLeaguesNoTeamsContingencyTable.plot(kind='bar')"
   ]
  },
  {
   "attachments": {},
   "cell_type": "markdown",
   "metadata": {},
   "source": [
    "From this barplot it is starting to get clear that there are a few leagues with major differences between the number of players on positions. When taking for example the Serie A, this difference can be spotted very easy. While having a lot of midfielders and defenders, the Serie A has just a few attackers and (compared to the other leagues) a lot of goalkeepers."
   ]
  },
  {
   "cell_type": "code",
   "execution_count": 38,
   "metadata": {},
   "outputs": [
    {
     "name": "stdout",
     "output_type": "stream",
     "text": [
      "The odds of a correlation between League and Position is 99.99994389584538% (Based on a p value of 5.610415462071326e-07).\n",
      "This percentage needs to be at least 95% for a significant correlation.\n"
     ]
    }
   ],
   "source": [
    "check_cat_vs_cat_correlation(playerStatsAllLeaguesNoTeams, 'League', 'Position')"
   ]
  },
  {
   "attachments": {},
   "cell_type": "markdown",
   "metadata": {},
   "source": [
    "Thanks to this calculation it has become clear that there is a significant correlation between the leagues and the positions. This probably has a lot to do with the different play styles in the leagues. \n",
    "\n",
    "In leagues like the Serie A it's very populair to play in a 1-5-3-2, a 1-3-5-2, and some teams even play in a 1-5-3-1-1 formation. These formations require only 1 or 2 attackers, and rely on a strong backline with fullbacks that have a lot of pace. While the midfielders must have a lot of technique to succesfully play in these formations. It is very logical for teams that play in these formation to not buy as much attackers as midfielders or defenders, because the attackers will simply get used less.\n",
    "\n",
    "In some other leagues teams use a more offensive play style, like the French Ligue 1. In the bar plot can be seen that the Ligue 1 has a lot of attackers and (compared to the other leagues) has not a lot of defenders. "
   ]
  }
 ],
 "metadata": {
  "kernelspec": {
   "display_name": "base",
   "language": "python",
   "name": "python3"
  },
  "language_info": {
   "codemirror_mode": {
    "name": "ipython",
    "version": 3
   },
   "file_extension": ".py",
   "mimetype": "text/x-python",
   "name": "python",
   "nbconvert_exporter": "python",
   "pygments_lexer": "ipython3",
   "version": "3.9.13"
  },
  "orig_nbformat": 4,
  "vscode": {
   "interpreter": {
    "hash": "4d9defa72c2715dab9f7f172572cd30a1ab1a2083462d32ef96aadb7c6e0c73b"
   }
  }
 },
 "nbformat": 4,
 "nbformat_minor": 2
}
