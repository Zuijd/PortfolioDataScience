{
 "cells": [
  {
   "cell_type": "markdown",
   "id": "eec5b979",
   "metadata": {},
   "source": [
    "### Portfolio assignment 7\n",
    "15 min: Look at the histogram of at least 2 columns with numerical data in the dataset that you chose in portfolio assignment 4. Do you recognise the distribution? Does it look like a uniform or normal distribution or something else? If it doesn't look like a uniform or normal distribution, take a quick look here to see if you can find the distribution shape: https://www.itl.nist.gov/div898/handbook/eda/section3/eda366.htm"
   ]
  },
  {
   "cell_type": "code",
   "execution_count": 2,
   "id": "e2605491",
   "metadata": {},
   "outputs": [],
   "source": [
    "import pandas as pd \n",
    "playerStats = pd.read_csv('playerStats.csv', sep=',')"
   ]
  },
  {
   "cell_type": "code",
   "execution_count": 3,
   "id": "f3177f59",
   "metadata": {},
   "outputs": [
    {
     "data": {
      "text/html": [
       "<div>\n",
       "<style scoped>\n",
       "    .dataframe tbody tr th:only-of-type {\n",
       "        vertical-align: middle;\n",
       "    }\n",
       "\n",
       "    .dataframe tbody tr th {\n",
       "        vertical-align: top;\n",
       "    }\n",
       "\n",
       "    .dataframe thead th {\n",
       "        text-align: right;\n",
       "    }\n",
       "</style>\n",
       "<table border=\"1\" class=\"dataframe\">\n",
       "  <thead>\n",
       "    <tr style=\"text-align: right;\">\n",
       "      <th></th>\n",
       "      <th>League</th>\n",
       "      <th>Team</th>\n",
       "      <th>Season</th>\n",
       "      <th>KEY</th>\n",
       "      <th>Player</th>\n",
       "      <th>Position</th>\n",
       "      <th>Appearances</th>\n",
       "      <th>Goals</th>\n",
       "      <th>Started</th>\n",
       "      <th>Started As A Sub</th>\n",
       "      <th>...</th>\n",
       "      <th>Minutes per Yellow Cards</th>\n",
       "      <th>Sent Off</th>\n",
       "      <th>Straight Red Card</th>\n",
       "      <th>Two Yellow Cards</th>\n",
       "      <th>Red - First Half</th>\n",
       "      <th>Red - Second Half</th>\n",
       "      <th>Red - Home</th>\n",
       "      <th>Red - Away</th>\n",
       "      <th>Red - Minutes Played</th>\n",
       "      <th>Minutes per Red Cards</th>\n",
       "    </tr>\n",
       "  </thead>\n",
       "  <tbody>\n",
       "    <tr>\n",
       "      <th>0</th>\n",
       "      <td>Premier League</td>\n",
       "      <td>Chelsea</td>\n",
       "      <td>2016/17</td>\n",
       "      <td>Premier League|Chelsea|2016/17</td>\n",
       "      <td>NaN</td>\n",
       "      <td>NaN</td>\n",
       "      <td>NaN</td>\n",
       "      <td>83.0</td>\n",
       "      <td>NaN</td>\n",
       "      <td>NaN</td>\n",
       "      <td>...</td>\n",
       "      <td>NaN</td>\n",
       "      <td>NaN</td>\n",
       "      <td>NaN</td>\n",
       "      <td>NaN</td>\n",
       "      <td>NaN</td>\n",
       "      <td>NaN</td>\n",
       "      <td>NaN</td>\n",
       "      <td>NaN</td>\n",
       "      <td>NaN</td>\n",
       "      <td>NaN</td>\n",
       "    </tr>\n",
       "    <tr>\n",
       "      <th>1</th>\n",
       "      <td>Premier League</td>\n",
       "      <td>Chelsea</td>\n",
       "      <td>2016/17</td>\n",
       "      <td>Premier League|Chelsea|2016/17</td>\n",
       "      <td>Cesar Azpilicueta</td>\n",
       "      <td>Defender</td>\n",
       "      <td>38.0</td>\n",
       "      <td>1.0</td>\n",
       "      <td>38.0</td>\n",
       "      <td>0.0</td>\n",
       "      <td>...</td>\n",
       "      <td>855</td>\n",
       "      <td>NaN</td>\n",
       "      <td>NaN</td>\n",
       "      <td>NaN</td>\n",
       "      <td>NaN</td>\n",
       "      <td>NaN</td>\n",
       "      <td>NaN</td>\n",
       "      <td>NaN</td>\n",
       "      <td>NaN</td>\n",
       "      <td>NaN</td>\n",
       "    </tr>\n",
       "    <tr>\n",
       "      <th>2</th>\n",
       "      <td>Premier League</td>\n",
       "      <td>Chelsea</td>\n",
       "      <td>2016/17</td>\n",
       "      <td>Premier League|Chelsea|2016/17</td>\n",
       "      <td>Gary Cahill</td>\n",
       "      <td>Defender</td>\n",
       "      <td>37.0</td>\n",
       "      <td>6.0</td>\n",
       "      <td>36.0</td>\n",
       "      <td>2.0</td>\n",
       "      <td>...</td>\n",
       "      <td>659.2</td>\n",
       "      <td>NaN</td>\n",
       "      <td>NaN</td>\n",
       "      <td>NaN</td>\n",
       "      <td>NaN</td>\n",
       "      <td>NaN</td>\n",
       "      <td>NaN</td>\n",
       "      <td>NaN</td>\n",
       "      <td>NaN</td>\n",
       "      <td>NaN</td>\n",
       "    </tr>\n",
       "    <tr>\n",
       "      <th>3</th>\n",
       "      <td>Premier League</td>\n",
       "      <td>Chelsea</td>\n",
       "      <td>2016/17</td>\n",
       "      <td>Premier League|Chelsea|2016/17</td>\n",
       "      <td>Eden Hazard</td>\n",
       "      <td>Midfielder</td>\n",
       "      <td>36.0</td>\n",
       "      <td>16.0</td>\n",
       "      <td>36.0</td>\n",
       "      <td>0.0</td>\n",
       "      <td>...</td>\n",
       "      <td>1002</td>\n",
       "      <td>NaN</td>\n",
       "      <td>NaN</td>\n",
       "      <td>NaN</td>\n",
       "      <td>NaN</td>\n",
       "      <td>NaN</td>\n",
       "      <td>NaN</td>\n",
       "      <td>NaN</td>\n",
       "      <td>NaN</td>\n",
       "      <td>NaN</td>\n",
       "    </tr>\n",
       "    <tr>\n",
       "      <th>4</th>\n",
       "      <td>Premier League</td>\n",
       "      <td>Chelsea</td>\n",
       "      <td>2016/17</td>\n",
       "      <td>Premier League|Chelsea|2016/17</td>\n",
       "      <td>Thibaut Courtois</td>\n",
       "      <td>Goalkeeper</td>\n",
       "      <td>36.0</td>\n",
       "      <td>0.0</td>\n",
       "      <td>36.0</td>\n",
       "      <td>0.0</td>\n",
       "      <td>...</td>\n",
       "      <td>3240</td>\n",
       "      <td>NaN</td>\n",
       "      <td>NaN</td>\n",
       "      <td>NaN</td>\n",
       "      <td>NaN</td>\n",
       "      <td>NaN</td>\n",
       "      <td>NaN</td>\n",
       "      <td>NaN</td>\n",
       "      <td>NaN</td>\n",
       "      <td>NaN</td>\n",
       "    </tr>\n",
       "  </tbody>\n",
       "</table>\n",
       "<p>5 rows × 57 columns</p>\n",
       "</div>"
      ],
      "text/plain": [
       "           League     Team   Season                             KEY  \\\n",
       "0  Premier League  Chelsea  2016/17  Premier League|Chelsea|2016/17   \n",
       "1  Premier League  Chelsea  2016/17  Premier League|Chelsea|2016/17   \n",
       "2  Premier League  Chelsea  2016/17  Premier League|Chelsea|2016/17   \n",
       "3  Premier League  Chelsea  2016/17  Premier League|Chelsea|2016/17   \n",
       "4  Premier League  Chelsea  2016/17  Premier League|Chelsea|2016/17   \n",
       "\n",
       "              Player    Position  Appearances  Goals  Started  \\\n",
       "0                NaN         NaN          NaN   83.0      NaN   \n",
       "1  Cesar Azpilicueta    Defender         38.0    1.0     38.0   \n",
       "2        Gary Cahill    Defender         37.0    6.0     36.0   \n",
       "3        Eden Hazard  Midfielder         36.0   16.0     36.0   \n",
       "4   Thibaut Courtois  Goalkeeper         36.0    0.0     36.0   \n",
       "\n",
       "   Started As A Sub  ...  Minutes per Yellow Cards  Sent Off  \\\n",
       "0               NaN  ...                       NaN       NaN   \n",
       "1               0.0  ...                       855       NaN   \n",
       "2               2.0  ...                     659.2       NaN   \n",
       "3               0.0  ...                      1002       NaN   \n",
       "4               0.0  ...                      3240       NaN   \n",
       "\n",
       "   Straight Red Card Two Yellow Cards Red - First Half Red - Second Half  \\\n",
       "0                NaN              NaN              NaN               NaN   \n",
       "1                NaN              NaN              NaN               NaN   \n",
       "2                NaN              NaN              NaN               NaN   \n",
       "3                NaN              NaN              NaN               NaN   \n",
       "4                NaN              NaN              NaN               NaN   \n",
       "\n",
       "  Red - Home Red - Away Red - Minutes Played Minutes per Red Cards  \n",
       "0        NaN        NaN                  NaN                   NaN  \n",
       "1        NaN        NaN                  NaN                   NaN  \n",
       "2        NaN        NaN                  NaN                   NaN  \n",
       "3        NaN        NaN                  NaN                   NaN  \n",
       "4        NaN        NaN                  NaN                   NaN  \n",
       "\n",
       "[5 rows x 57 columns]"
      ]
     },
     "execution_count": 3,
     "metadata": {},
     "output_type": "execute_result"
    }
   ],
   "source": [
    "playerStats.head()"
   ]
  },
  {
   "cell_type": "code",
   "execution_count": 6,
   "id": "c546b63b",
   "metadata": {},
   "outputs": [],
   "source": [
    "playerStatsAllLeagues = playerStats[(playerStats['Player'].notnull())]"
   ]
  },
  {
   "cell_type": "markdown",
   "id": "d4ae4cea",
   "metadata": {},
   "source": [
    "#### Appearances:"
   ]
  },
  {
   "cell_type": "code",
   "execution_count": 38,
   "id": "e12bbeb3",
   "metadata": {},
   "outputs": [
    {
     "data": {
      "text/plain": [
       "<AxesSubplot:ylabel='Frequency'>"
      ]
     },
     "execution_count": 38,
     "metadata": {},
     "output_type": "execute_result"
    },
    {
     "data": {
      "image/png": "[encoded data removed]",
      "text/plain": [
       "<Figure size 640x480 with 1 Axes>"
      ]
     },
     "metadata": {},
     "output_type": "display_data"
    }
   ],
   "source": [
    "playerStatsAllLeagues['Appearances'].plot(kind='hist', bins=38)"
   ]
  },
  {
   "cell_type": "markdown",
   "id": "883106cf",
   "metadata": {},
   "source": [
    "Het histogram dat is voortgekomen uit de geslecteerde data is zowel geen uniforme als geen normale verdeling. Dit diagram heeft niet veel gemeen met andere verdelingen en ik kan het daarom ook moeilijk plaatsen. Er is duidelijk een grote piek aan het begin die snel afneemt en later weer wat hoger wordt. Als ik dit histogram zou moeten koppelen aan een verdeling dan zou het koppelen aan de: Beta Distribution. Het heeft niet veel weg van deze verdeling, maar mijn motivatie voor deze keuze heeft te maken met de piek die rond het einde ontstaat alhoewel deze piek niet in de buurt komt van de hoogte van de eerste piek."
   ]
  },
  {
   "cell_type": "code",
   "execution_count": 40,
   "id": "a0ce0305",
   "metadata": {},
   "outputs": [
    {
     "data": {
      "text/plain": [
       "<AxesSubplot:ylabel='Frequency'>"
      ]
     },
     "execution_count": 40,
     "metadata": {},
     "output_type": "execute_result"
    },
    {
     "data": {
      "image/png": "[encoded data removed]",
      "text/plain": [
       "<Figure size 640x480 with 1 Axes>"
      ]
     },
     "metadata": {},
     "output_type": "display_data"
    }
   ],
   "source": [
    "playerStatsAllLeagues['Goals'].plot(kind='hist', bins=37)"
   ]
  },
  {
   "cell_type": "markdown",
   "id": "10fd44bd",
   "metadata": {},
   "source": [
    "Het histogram dat is voortgekomen uit de geslecteerde data is zowel geen uniforme als geen normale verdeling. Wel heeft het diagram veel weg van een: F Distribution. Dit vanwege de hoge piek aan het begin waarna een snelle, grote afname volgt."
   ]
  }
 ],
 "metadata": {
  "kernelspec": {
   "display_name": "Python 3 (ipykernel)",
   "language": "python",
   "name": "python3"
  },
  "language_info": {
   "codemirror_mode": {
    "name": "ipython",
    "version": 3
   },
   "file_extension": ".py",
   "mimetype": "text/x-python",
   "name": "python",
   "nbconvert_exporter": "python",
   "pygments_lexer": "ipython3",
   "version": "3.9.13"
  }
 },
 "nbformat": 4,
 "nbformat_minor": 5
}
