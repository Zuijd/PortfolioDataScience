{
 "cells": [
  {
   "attachments": {},
   "cell_type": "markdown",
   "metadata": {},
   "source": [
    "### Portfolio assignment 12\n",
    "30 min: Perform a bivariate analysis on at least 3 combinations of a numerical column with a categorical column in the dataset that you chose in portfolio assignment 4. Use <em>.groupby('columnname').mean()</em> to calculate the means. Is there a difference between categories? Then use seaborn barplots to check if there is a statistically significant difference. "
   ]
  },
  {
   "cell_type": "code",
   "execution_count": 11,
   "metadata": {},
   "outputs": [],
   "source": [
    "import pandas as pd\n",
    "import seaborn as sns\n",
    "type_dict = {'Team': 'object', 'Season': 'object', 'KEY': 'object', 'Player': 'object', 'Position': 'object', 'Appearances': 'float64', 'Goals': 'float64', 'Started': 'float64', 'Started As A Sub': 'float64', 'Came On': 'float64', 'Taken Off': 'float64', 'Own Goals': 'float64', 'Type Of Goal': 'object', 'First Half': 'float64', 'Second Half': 'float64', 'First Scorer': 'object', 'Last Scorer': 'object', 'Home': 'float64', 'Away': 'float64', 'Right Foot': 'float64', 'Left Foot': 'float64', 'Header': 'float64', 'Other Method': 'float64', 'Open Play': 'float64', 'Cross': 'float64', 'Free Kick': 'float64', 'Direct Free Kick': 'float64', 'Throw In': 'float64', 'Penalty': 'float64', 'Corner': 'float64', 'Other Type Of Play': 'float64', 'Minutes played': 'float64', 'Min/goal': 'float64', 'Assists': 'float64', '% Assists': 'float64', 'Leading Recipient': 'object', 'Recipient Goals': 'float64', 'CS': 'float64', '% Clean Sheets': 'float64', 'Hat Tricks': 'float64', 'Yellow Cards': 'float64', 'Yellow - First Half': 'float64', 'Yellow - Second Half': 'float64', 'Yellow - Home': 'float64', 'Yellow - Away': 'float64', 'Yelow - Minutes Played': 'float64', 'Minutes per Yellow Cards': 'float64', 'Sent Off': 'float64', 'Straight Red Card': 'float64', 'Two Yellow Cards': 'float64', 'Red - First Half': 'float64', 'Red - Second Half': 'float64', 'Red - Home': 'float64', 'Red - Away': 'float64', 'Red - Minutes Played': 'float64', 'Minutes per Red Cards': 'float64'}\n",
    "playerStatsAllLeagues = pd.read_csv('merged-csv-files.csv', sep=',', dtype=type_dict)\n",
    "playerStatsAllLeaguesNoTeams = playerStatsAllLeagues[playerStatsAllLeagues['Position'] != \"Other\"];"
   ]
  },
  {
   "attachments": {},
   "cell_type": "markdown",
   "metadata": {},
   "source": [
    "#### Position"
   ]
  },
  {
   "cell_type": "code",
   "execution_count": 19,
   "metadata": {},
   "outputs": [
    {
     "data": {
      "text/html": [
       "<div>\n",
       "<style scoped>\n",
       "    .dataframe tbody tr th:only-of-type {\n",
       "        vertical-align: middle;\n",
       "    }\n",
       "\n",
       "    .dataframe tbody tr th {\n",
       "        vertical-align: top;\n",
       "    }\n",
       "\n",
       "    .dataframe thead th {\n",
       "        text-align: right;\n",
       "    }\n",
       "</style>\n",
       "<table border=\"1\" class=\"dataframe\">\n",
       "  <thead>\n",
       "    <tr style=\"text-align: right;\">\n",
       "      <th></th>\n",
       "      <th>Appearances</th>\n",
       "      <th>Goals</th>\n",
       "      <th>Started</th>\n",
       "      <th>Started As A Sub</th>\n",
       "      <th>Came On</th>\n",
       "      <th>Taken Off</th>\n",
       "      <th>Own Goals</th>\n",
       "      <th>First Half</th>\n",
       "      <th>Second Half</th>\n",
       "      <th>Home</th>\n",
       "      <th>...</th>\n",
       "      <th>Minutes per Yellow Cards</th>\n",
       "      <th>Sent Off</th>\n",
       "      <th>Straight Red Card</th>\n",
       "      <th>Two Yellow Cards</th>\n",
       "      <th>Red First Half</th>\n",
       "      <th>Red Second Half</th>\n",
       "      <th>Red Home</th>\n",
       "      <th>Red Away</th>\n",
       "      <th>Red Minutes Played</th>\n",
       "      <th>Minutes per Red Cards</th>\n",
       "    </tr>\n",
       "    <tr>\n",
       "      <th>Position</th>\n",
       "      <th></th>\n",
       "      <th></th>\n",
       "      <th></th>\n",
       "      <th></th>\n",
       "      <th></th>\n",
       "      <th></th>\n",
       "      <th></th>\n",
       "      <th></th>\n",
       "      <th></th>\n",
       "      <th></th>\n",
       "      <th></th>\n",
       "      <th></th>\n",
       "      <th></th>\n",
       "      <th></th>\n",
       "      <th></th>\n",
       "      <th></th>\n",
       "      <th></th>\n",
       "      <th></th>\n",
       "      <th></th>\n",
       "      <th></th>\n",
       "      <th></th>\n",
       "    </tr>\n",
       "  </thead>\n",
       "  <tbody>\n",
       "    <tr>\n",
       "      <th>Defender</th>\n",
       "      <td>15.477998</td>\n",
       "      <td>0.598422</td>\n",
       "      <td>13.812153</td>\n",
       "      <td>7.316406</td>\n",
       "      <td>1.665845</td>\n",
       "      <td>1.589671</td>\n",
       "      <td>0.093184</td>\n",
       "      <td>1.371410</td>\n",
       "      <td>1.445283</td>\n",
       "      <td>1.470776</td>\n",
       "      <td>...</td>\n",
       "      <td>543.466796</td>\n",
       "      <td>1.126516</td>\n",
       "      <td>1.053922</td>\n",
       "      <td>1.061588</td>\n",
       "      <td>1.036789</td>\n",
       "      <td>1.093923</td>\n",
       "      <td>1.055102</td>\n",
       "      <td>1.093575</td>\n",
       "      <td>1859.409012</td>\n",
       "      <td>1734.242929</td>\n",
       "    </tr>\n",
       "    <tr>\n",
       "      <th>Forward</th>\n",
       "      <td>16.080618</td>\n",
       "      <td>3.614597</td>\n",
       "      <td>10.557810</td>\n",
       "      <td>9.462856</td>\n",
       "      <td>5.522808</td>\n",
       "      <td>4.844908</td>\n",
       "      <td>0.010985</td>\n",
       "      <td>3.340400</td>\n",
       "      <td>3.696512</td>\n",
       "      <td>3.837209</td>\n",
       "      <td>...</td>\n",
       "      <td>625.175608</td>\n",
       "      <td>1.069767</td>\n",
       "      <td>1.056277</td>\n",
       "      <td>1.017964</td>\n",
       "      <td>1.023529</td>\n",
       "      <td>1.058252</td>\n",
       "      <td>1.020513</td>\n",
       "      <td>1.053922</td>\n",
       "      <td>1703.235142</td>\n",
       "      <td>1648.393411</td>\n",
       "    </tr>\n",
       "    <tr>\n",
       "      <th>Goalkeeper</th>\n",
       "      <td>10.151019</td>\n",
       "      <td>0.001336</td>\n",
       "      <td>10.021383</td>\n",
       "      <td>11.595389</td>\n",
       "      <td>0.129636</td>\n",
       "      <td>0.097227</td>\n",
       "      <td>0.034414</td>\n",
       "      <td>NaN</td>\n",
       "      <td>1.000000</td>\n",
       "      <td>1.000000</td>\n",
       "      <td>...</td>\n",
       "      <td>1553.533577</td>\n",
       "      <td>1.034483</td>\n",
       "      <td>1.036364</td>\n",
       "      <td>1.000000</td>\n",
       "      <td>1.043478</td>\n",
       "      <td>1.014085</td>\n",
       "      <td>1.042553</td>\n",
       "      <td>1.028986</td>\n",
       "      <td>2044.333333</td>\n",
       "      <td>1975.000000</td>\n",
       "    </tr>\n",
       "    <tr>\n",
       "      <th>Midfielder</th>\n",
       "      <td>16.544783</td>\n",
       "      <td>1.548425</td>\n",
       "      <td>12.573031</td>\n",
       "      <td>8.471063</td>\n",
       "      <td>3.971752</td>\n",
       "      <td>4.414665</td>\n",
       "      <td>0.020079</td>\n",
       "      <td>2.059015</td>\n",
       "      <td>2.227110</td>\n",
       "      <td>2.261467</td>\n",
       "      <td>...</td>\n",
       "      <td>546.724438</td>\n",
       "      <td>1.091610</td>\n",
       "      <td>1.036122</td>\n",
       "      <td>1.059567</td>\n",
       "      <td>1.004651</td>\n",
       "      <td>1.081464</td>\n",
       "      <td>1.051064</td>\n",
       "      <td>1.047619</td>\n",
       "      <td>1775.807136</td>\n",
       "      <td>1691.018631</td>\n",
       "    </tr>\n",
       "  </tbody>\n",
       "</table>\n",
       "<p>4 rows × 47 columns</p>\n",
       "</div>"
      ],
      "text/plain": [
       "            Appearances     Goals    Started  Started As A Sub   Came On  \\\n",
       "Position                                                                   \n",
       "Defender      15.477998  0.598422  13.812153          7.316406  1.665845   \n",
       "Forward       16.080618  3.614597  10.557810          9.462856  5.522808   \n",
       "Goalkeeper    10.151019  0.001336  10.021383         11.595389  0.129636   \n",
       "Midfielder    16.544783  1.548425  12.573031          8.471063  3.971752   \n",
       "\n",
       "            Taken Off  Own Goals  First Half  Second Half      Home  ...  \\\n",
       "Position                                                             ...   \n",
       "Defender     1.589671   0.093184    1.371410     1.445283  1.470776  ...   \n",
       "Forward      4.844908   0.010985    3.340400     3.696512  3.837209  ...   \n",
       "Goalkeeper   0.097227   0.034414         NaN     1.000000  1.000000  ...   \n",
       "Midfielder   4.414665   0.020079    2.059015     2.227110  2.261467  ...   \n",
       "\n",
       "            Minutes per Yellow Cards  Sent Off  Straight Red Card  \\\n",
       "Position                                                            \n",
       "Defender                  543.466796  1.126516           1.053922   \n",
       "Forward                   625.175608  1.069767           1.056277   \n",
       "Goalkeeper               1553.533577  1.034483           1.036364   \n",
       "Midfielder                546.724438  1.091610           1.036122   \n",
       "\n",
       "            Two Yellow Cards  Red First Half  Red Second Half  Red Home  \\\n",
       "Position                                                                  \n",
       "Defender            1.061588        1.036789         1.093923  1.055102   \n",
       "Forward             1.017964        1.023529         1.058252  1.020513   \n",
       "Goalkeeper          1.000000        1.043478         1.014085  1.042553   \n",
       "Midfielder          1.059567        1.004651         1.081464  1.051064   \n",
       "\n",
       "            Red Away  Red Minutes Played  Minutes per Red Cards  \n",
       "Position                                                         \n",
       "Defender    1.093575         1859.409012            1734.242929  \n",
       "Forward     1.053922         1703.235142            1648.393411  \n",
       "Goalkeeper  1.028986         2044.333333            1975.000000  \n",
       "Midfielder  1.047619         1775.807136            1691.018631  \n",
       "\n",
       "[4 rows x 47 columns]"
      ]
     },
     "execution_count": 19,
     "metadata": {},
     "output_type": "execute_result"
    }
   ],
   "source": [
    "playerStatsAllLeaguesNoTeams.groupby('Position').mean()"
   ]
  },
  {
   "attachments": {},
   "cell_type": "markdown",
   "metadata": {},
   "source": [
    "From this table can be seen that, between positions, there are big differences in values. In upcomming barplots a few of these differnces will be analyzed further."
   ]
  },
  {
   "attachments": {},
   "cell_type": "markdown",
   "metadata": {},
   "source": [
    "#### Goals"
   ]
  },
  {
   "cell_type": "code",
   "execution_count": 12,
   "metadata": {},
   "outputs": [
    {
     "data": {
      "text/plain": [
       "<AxesSubplot:xlabel='Position', ylabel='Goals'>"
      ]
     },
     "execution_count": 12,
     "metadata": {},
     "output_type": "execute_result"
    },
    {
     "data": {
      "image/png": "[encoded data removed]",
      "text/plain": [
       "<Figure size 640x480 with 1 Axes>"
      ]
     },
     "metadata": {},
     "output_type": "display_data"
    }
   ],
   "source": [
    "sns.barplot(y=\"Goals\", x=\"Position\", data=playerStatsAllLeaguesNoTeams)"
   ]
  },
  {
   "attachments": {},
   "cell_type": "markdown",
   "metadata": {},
   "source": [
    "#### Assists"
   ]
  },
  {
   "cell_type": "code",
   "execution_count": 14,
   "metadata": {},
   "outputs": [
    {
     "data": {
      "text/plain": [
       "<AxesSubplot:xlabel='Position', ylabel='Assists'>"
      ]
     },
     "execution_count": 14,
     "metadata": {},
     "output_type": "execute_result"
    },
    {
     "data": {
      "image/png": "[encoded data removed]",
      "text/plain": [
       "<Figure size 640x480 with 1 Axes>"
      ]
     },
     "metadata": {},
     "output_type": "display_data"
    }
   ],
   "source": [
    "sns.barplot(y=\"Assists\", x=\"Position\", data=playerStatsAllLeaguesNoTeams)"
   ]
  },
  {
   "attachments": {},
   "cell_type": "markdown",
   "metadata": {},
   "source": [
    "#### Came on"
   ]
  },
  {
   "cell_type": "code",
   "execution_count": 17,
   "metadata": {},
   "outputs": [
    {
     "data": {
      "text/plain": [
       "<AxesSubplot:xlabel='Position', ylabel='Came On'>"
      ]
     },
     "execution_count": 17,
     "metadata": {},
     "output_type": "execute_result"
    },
    {
     "data": {
      "image/png": "[encoded data removed]",
      "text/plain": [
       "<Figure size 640x480 with 1 Axes>"
      ]
     },
     "metadata": {},
     "output_type": "display_data"
    }
   ],
   "source": [
    "sns.barplot(y=\"Came On\", x=\"Position\", data=playerStatsAllLeaguesNoTeams)"
   ]
  }
 ],
 "metadata": {
  "kernelspec": {
   "display_name": "base",
   "language": "python",
   "name": "python3"
  },
  "language_info": {
   "codemirror_mode": {
    "name": "ipython",
    "version": 3
   },
   "file_extension": ".py",
   "mimetype": "text/x-python",
   "name": "python",
   "nbconvert_exporter": "python",
   "pygments_lexer": "ipython3",
   "version": "3.9.13"
  },
  "orig_nbformat": 4,
  "vscode": {
   "interpreter": {
    "hash": "4d9defa72c2715dab9f7f172572cd30a1ab1a2083462d32ef96aadb7c6e0c73b"
   }
  }
 },
 "nbformat": 4,
 "nbformat_minor": 2
}
